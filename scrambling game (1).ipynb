{
 "cells": [
  {
   "cell_type": "code",
   "execution_count": 1,
   "id": "67944a62-81b0-4121-8e99-f778b7e9f1a0",
   "metadata": {},
   "outputs": [
    {
     "name": "stdout",
     "output_type": "stream",
     "text": [
      "Welcome to number scrambling  game :\n"
     ]
    },
    {
     "name": "stdin",
     "output_type": "stream",
     "text": [
      "The shuffle word is efl \n",
      " Try to guess the orginal word  lfe\n"
     ]
    },
    {
     "name": "stdout",
     "output_type": "stream",
     "text": [
      "Try again you have guessed wrong\n",
      "Remaining lives 4\n"
     ]
    },
    {
     "name": "stdin",
     "output_type": "stream",
     "text": [
      "The shuffle word is efl \n",
      " Try to guess the orginal word  elf\n"
     ]
    },
    {
     "name": "stdout",
     "output_type": "stream",
     "text": [
      "Congratulation you have found the word elf in 4 lifes left\n"
     ]
    }
   ],
   "source": [
    "import random\n",
    "print(\"Welcome to number scrambling  game :\")\n",
    "word_list=[\"tiger\",\"wolf\",\"elf\",\"boxing\",\"python\",\"dear\"]\n",
    "x=random.choice(word_list)\n",
    "k=list(x)\n",
    "random.shuffle(k)\n",
    "s=\"\".join(k)\n",
    "t=5\n",
    "while t!=0:\n",
    "    y=input((f\"The shuffle word is {s} \\n Try to guess the orginal word \"))\n",
    "    if y==x:\n",
    "        print(f\"Congratulation you have found the word {x} in {t} lifes left\")\n",
    "        break\n",
    "    else:\n",
    "        print(\"Try again you have guessed wrong\")\n",
    "        t=t-1\n",
    "        print(f\"Remaining lives {t}\")\n",
    "if t==0:\n",
    "    print(\"Game lost\")\n",
    "\n",
    "\n"
   ]
  },
  {
   "cell_type": "code",
   "execution_count": null,
   "id": "5f1f1f06-1778-4e50-a898-6ef64b13e7ee",
   "metadata": {},
   "outputs": [],
   "source": []
  },
  {
   "cell_type": "code",
   "execution_count": null,
   "id": "03040e80-c7ea-4502-8692-7a90fe6bc3b6",
   "metadata": {},
   "outputs": [],
   "source": []
  },
  {
   "cell_type": "code",
   "execution_count": null,
   "id": "edfc9b9e-5412-4069-a991-ebc84cfc8f8a",
   "metadata": {},
   "outputs": [],
   "source": []
  }
 ],
 "metadata": {
  "kernelspec": {
   "display_name": "Python 3 (ipykernel)",
   "language": "python",
   "name": "python3"
  },
  "language_info": {
   "codemirror_mode": {
    "name": "ipython",
    "version": 3
   },
   "file_extension": ".py",
   "mimetype": "text/x-python",
   "name": "python",
   "nbconvert_exporter": "python",
   "pygments_lexer": "ipython3",
   "version": "3.11.7"
  }
 },
 "nbformat": 4,
 "nbformat_minor": 5
}
