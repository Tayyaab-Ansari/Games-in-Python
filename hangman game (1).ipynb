{
 "cells": [
  {
   "cell_type": "code",
   "execution_count": null,
   "id": "a06d7ec1-7fc2-4eb6-9a6d-2bf993877958",
   "metadata": {},
   "outputs": [],
   "source": []
  },
  {
   "cell_type": "code",
   "execution_count": null,
   "id": "b62ef001-ebba-4eea-ab04-99174ccbcfd6",
   "metadata": {},
   "outputs": [],
   "source": []
  },
  {
   "cell_type": "code",
   "execution_count": null,
   "id": "2fa7e0b1-4d71-43bd-a1da-9c7287078ede",
   "metadata": {},
   "outputs": [],
   "source": []
  },
  {
   "cell_type": "code",
   "execution_count": null,
   "id": "727ea634-9929-4ace-8264-aa1f6259852c",
   "metadata": {},
   "outputs": [
    {
     "name": "stdout",
     "output_type": "stream",
     "text": [
      "['-', '-', '-', '-', '-', '-', '-']\n"
     ]
    },
    {
     "name": "stdin",
     "output_type": "stream",
     "text": [
      "Enter the guessed character b\n"
     ]
    },
    {
     "name": "stdout",
     "output_type": "stream",
     "text": [
      "['-', '-', '-', '-', '-', '-', 'b']\n"
     ]
    },
    {
     "name": "stdin",
     "output_type": "stream",
     "text": [
      "Enter the guessed character a\n"
     ]
    },
    {
     "name": "stdout",
     "output_type": "stream",
     "text": [
      "['-', '-', '-', 'a', 'a', '-', 'b']\n"
     ]
    }
   ],
   "source": [
    "import random #for generating random words\n",
    "stages = [\n",
    "    '''\n",
    "       +---+\n",
    "       |   |\n",
    "       O   |\n",
    "      /|\\\\ |\n",
    "      / \\\\ |\n",
    "           |\n",
    "    =========\n",
    "    ''',\n",
    "    '''\n",
    "       +---+\n",
    "       |   |\n",
    "       O   |\n",
    "      /|\\\\ |\n",
    "      /    |\n",
    "           |\n",
    "    =========\n",
    "    ''',\n",
    "    '''\n",
    "       +---+\n",
    "       |   |\n",
    "       O   |\n",
    "      /|\\\\ |\n",
    "           |\n",
    "           |\n",
    "    =========\n",
    "    ''',\n",
    "    '''\n",
    "       +---+\n",
    "       |   |\n",
    "       O   |\n",
    "      /|   |\n",
    "           |\n",
    "           |\n",
    "    =========\n",
    "    ''',\n",
    "    '''\n",
    "       +---+\n",
    "       |   |\n",
    "       O   |\n",
    "       |   |\n",
    "           |\n",
    "           |\n",
    "    =========\n",
    "    ''',\n",
    "    '''\n",
    "       +---+\n",
    "       |   |\n",
    "       O   |\n",
    "           |\n",
    "           |\n",
    "           |\n",
    "    =========\n",
    "    ''',\n",
    "    '''\n",
    "       +---+\n",
    "       |   |\n",
    "           |\n",
    "           |\n",
    "           |\n",
    "           |\n",
    "    =========\n",
    "    '''\n",
    "]\n",
    "word_list=[\"Tayyyaab\",\"Maaz\",\"Zohaaib\",\"Muneeb\",\"Tehreem\",\"Zaineb\",\"Fatima\"] #list of different words\n",
    "ran=random.choice(word_list)# for genrating random word from the word_list\n",
    "s=[\"-\"]*len(ran)# 1or s+=\"_\" in for loop 2=for generating - eqaul to the the number of words in ran\n",
    "lives=6\n",
    "print(s)\n",
    "while \"-\" in s :\n",
    "    if  lives==0:\n",
    "        print(\"You lose no life left\")\n",
    "        print(\"The guessed word was :\",ran)\n",
    "        break\n",
    "    guess_letter=input(\"Enter the guessed character\").lower()\n",
    "    if guess_letter in ran:\n",
    "        for i in range(len(ran)):\n",
    "            if ran[i]==guess_letter:\n",
    "                s[i]=ran[i]\n",
    "    else:\n",
    "        lives=lives-1\n",
    "        print(f\"Wrong guess {lives} left\")\n",
    "        print(stages[lives])\n",
    "        \n",
    "    print(s)\n",
    "\n",
    "if not \"-\" in s:\n",
    "    print(\"You won\")\n",
    "     \n",
    "\n"
   ]
  },
  {
   "cell_type": "code",
   "execution_count": 57,
   "id": "66c90509-4358-4cd7-9769-0f066cb13cdb",
   "metadata": {},
   "outputs": [
    {
     "name": "stdout",
     "output_type": "stream",
     "text": [
      "The guessed word was : maaz\n",
      "----"
     ]
    },
    {
     "ename": "KeyboardInterrupt",
     "evalue": "Interrupted by user",
     "output_type": "error",
     "traceback": [
      "\u001b[1;31m---------------------------------------------------------------------------\u001b[0m",
      "\u001b[1;31mKeyboardInterrupt\u001b[0m                         Traceback (most recent call last)",
      "Cell \u001b[1;32mIn[57], line 8\u001b[0m\n\u001b[0;32m      5\u001b[0m \u001b[38;5;28;01mfor\u001b[39;00m i \u001b[38;5;129;01min\u001b[39;00m ran:\n\u001b[0;32m      6\u001b[0m     \u001b[38;5;28mprint\u001b[39m(\u001b[38;5;124m\"\u001b[39m\u001b[38;5;124m-\u001b[39m\u001b[38;5;124m\"\u001b[39m,end\u001b[38;5;241m=\u001b[39m\u001b[38;5;124m\"\u001b[39m\u001b[38;5;124m\"\u001b[39m)\n\u001b[1;32m----> 8\u001b[0m guess_letter\u001b[38;5;241m=\u001b[39m\u001b[38;5;28minput\u001b[39m(\u001b[38;5;124m\"\u001b[39m\u001b[38;5;124mEnter the character\u001b[39m\u001b[38;5;124m\"\u001b[39m)\u001b[38;5;241m.\u001b[39mlower()\n\u001b[0;32m      9\u001b[0m \u001b[38;5;28;01mfor\u001b[39;00m letter \u001b[38;5;129;01min\u001b[39;00m ran:\n\u001b[0;32m     10\u001b[0m     \u001b[38;5;28;01mif\u001b[39;00m letter\u001b[38;5;241m==\u001b[39mguess_letter:\n",
      "File \u001b[1;32m~\\anaconda3\\Lib\\site-packages\\ipykernel\\kernelbase.py:1262\u001b[0m, in \u001b[0;36mKernel.raw_input\u001b[1;34m(self, prompt)\u001b[0m\n\u001b[0;32m   1260\u001b[0m     msg \u001b[38;5;241m=\u001b[39m \u001b[38;5;124m\"\u001b[39m\u001b[38;5;124mraw_input was called, but this frontend does not support input requests.\u001b[39m\u001b[38;5;124m\"\u001b[39m\n\u001b[0;32m   1261\u001b[0m     \u001b[38;5;28;01mraise\u001b[39;00m StdinNotImplementedError(msg)\n\u001b[1;32m-> 1262\u001b[0m \u001b[38;5;28;01mreturn\u001b[39;00m \u001b[38;5;28mself\u001b[39m\u001b[38;5;241m.\u001b[39m_input_request(\n\u001b[0;32m   1263\u001b[0m     \u001b[38;5;28mstr\u001b[39m(prompt),\n\u001b[0;32m   1264\u001b[0m     \u001b[38;5;28mself\u001b[39m\u001b[38;5;241m.\u001b[39m_parent_ident[\u001b[38;5;124m\"\u001b[39m\u001b[38;5;124mshell\u001b[39m\u001b[38;5;124m\"\u001b[39m],\n\u001b[0;32m   1265\u001b[0m     \u001b[38;5;28mself\u001b[39m\u001b[38;5;241m.\u001b[39mget_parent(\u001b[38;5;124m\"\u001b[39m\u001b[38;5;124mshell\u001b[39m\u001b[38;5;124m\"\u001b[39m),\n\u001b[0;32m   1266\u001b[0m     password\u001b[38;5;241m=\u001b[39m\u001b[38;5;28;01mFalse\u001b[39;00m,\n\u001b[0;32m   1267\u001b[0m )\n",
      "File \u001b[1;32m~\\anaconda3\\Lib\\site-packages\\ipykernel\\kernelbase.py:1305\u001b[0m, in \u001b[0;36mKernel._input_request\u001b[1;34m(self, prompt, ident, parent, password)\u001b[0m\n\u001b[0;32m   1302\u001b[0m \u001b[38;5;28;01mexcept\u001b[39;00m \u001b[38;5;167;01mKeyboardInterrupt\u001b[39;00m:\n\u001b[0;32m   1303\u001b[0m     \u001b[38;5;66;03m# re-raise KeyboardInterrupt, to truncate traceback\u001b[39;00m\n\u001b[0;32m   1304\u001b[0m     msg \u001b[38;5;241m=\u001b[39m \u001b[38;5;124m\"\u001b[39m\u001b[38;5;124mInterrupted by user\u001b[39m\u001b[38;5;124m\"\u001b[39m\n\u001b[1;32m-> 1305\u001b[0m     \u001b[38;5;28;01mraise\u001b[39;00m \u001b[38;5;167;01mKeyboardInterrupt\u001b[39;00m(msg) \u001b[38;5;28;01mfrom\u001b[39;00m \u001b[38;5;28;01mNone\u001b[39;00m\n\u001b[0;32m   1306\u001b[0m \u001b[38;5;28;01mexcept\u001b[39;00m \u001b[38;5;167;01mException\u001b[39;00m:\n\u001b[0;32m   1307\u001b[0m     \u001b[38;5;28mself\u001b[39m\u001b[38;5;241m.\u001b[39mlog\u001b[38;5;241m.\u001b[39mwarning(\u001b[38;5;124m\"\u001b[39m\u001b[38;5;124mInvalid Message:\u001b[39m\u001b[38;5;124m\"\u001b[39m, exc_info\u001b[38;5;241m=\u001b[39m\u001b[38;5;28;01mTrue\u001b[39;00m)\n",
      "\u001b[1;31mKeyboardInterrupt\u001b[0m: Interrupted by user"
     ]
    }
   ],
   "source": [
    "import random\n",
    "word_list=[\"tayyyaab\",\"maaz\",\"zohaib\"]\n",
    "ran=random.choice(word_list)\n",
    "print(\"The guessed word was :\",ran)\n",
    "for i in ran:\n",
    "    print(\"-\",end=\"\")\n",
    "\n",
    "guess_letter=input(\"Enter the character\").lower()\n",
    "for letter in ran:\n",
    "    if letter==guess_letter:\n",
    "        print(guess_letter)\n",
    "    else:\n",
    "        print(\"wrong\")\n",
    "for i in ran:\n",
    "    print(\"-\",end=\"\")       \n",
    "\n"
   ]
  },
  {
   "cell_type": "code",
   "execution_count": null,
   "id": "1fbed6fe-c7f0-4277-8bfd-df32dcb81da5",
   "metadata": {},
   "outputs": [],
   "source": []
  }
 ],
 "metadata": {
  "kernelspec": {
   "display_name": "Python 3 (ipykernel)",
   "language": "python",
   "name": "python3"
  },
  "language_info": {
   "codemirror_mode": {
    "name": "ipython",
    "version": 3
   },
   "file_extension": ".py",
   "mimetype": "text/x-python",
   "name": "python",
   "nbconvert_exporter": "python",
   "pygments_lexer": "ipython3",
   "version": "3.11.7"
  }
 },
 "nbformat": 4,
 "nbformat_minor": 5
}
