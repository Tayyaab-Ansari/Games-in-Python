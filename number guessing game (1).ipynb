{
 "cells": [
  {
   "cell_type": "code",
   "execution_count": null,
   "id": "9bf76eba-db47-4be7-bf2b-5fe072892494",
   "metadata": {},
   "outputs": [
    {
     "name": "stdout",
     "output_type": "stream",
     "text": [
      "Welcome to number guessing game :\n",
      "I have selected a number between 1 to 100 Try to guess the number\n"
     ]
    },
    {
     "name": "stdin",
     "output_type": "stream",
     "text": [
      "Enter anumber 55\n"
     ]
    },
    {
     "name": "stdout",
     "output_type": "stream",
     "text": [
      "Try Again\n",
      "The number 55 is greater than the gussed number\n",
      "remaining lives 4\n"
     ]
    },
    {
     "name": "stdin",
     "output_type": "stream",
     "text": [
      "Enter anumber 53\n"
     ]
    },
    {
     "name": "stdout",
     "output_type": "stream",
     "text": [
      "Try Again\n",
      "The number 53 is greater than the gussed number\n",
      "remaining lives 3\n"
     ]
    },
    {
     "name": "stdin",
     "output_type": "stream",
     "text": [
      "Enter anumber 14\n"
     ]
    },
    {
     "name": "stdout",
     "output_type": "stream",
     "text": [
      "Try Again\n",
      "The number 14 is greater than the gussed number\n",
      "remaining lives 2\n"
     ]
    },
    {
     "name": "stdin",
     "output_type": "stream",
     "text": [
      "Enter anumber 1\n"
     ]
    },
    {
     "name": "stdout",
     "output_type": "stream",
     "text": [
      "Try Again\n",
      "The number 1 is less than the gussed number\n",
      "remaining lives 1\n"
     ]
    }
   ],
   "source": [
    "import random\n",
    "print(\"Welcome to number guessing game :\")\n",
    "print(\"I have selected a number between 1 to 100 Try to guess the number\")\n",
    "x=random.randint(1,100)\n",
    "t=5\n",
    "while t!=0:\n",
    "     v=int(input(\"Enter anumber\"))\n",
    "     if v==x:\n",
    "        print(f\"great you have guessed the number \")\n",
    "        break\n",
    "     elif v>x:   \n",
    "        print(f\"Try Again\\nThe number {v} is greater than the gussed number\")\n",
    "        t=t-1\n",
    "        print(f\"remaining lives {t}\")\n",
    "        \n",
    "     elif v<x:    \n",
    "        print(f\"Try Again\\nThe number {v} is less than the gussed number\")\n",
    "        t=t-1\n",
    "        print(f\"remaining lives {t}\")\n",
    "        \n",
    "if t==0:\n",
    "    print(\"You failed the guess word was \",x)\n",
    "\n"
   ]
  },
  {
   "cell_type": "code",
   "execution_count": null,
   "id": "ba095ef2-195b-42a5-8431-be3c3ee195fa",
   "metadata": {},
   "outputs": [],
   "source": []
  },
  {
   "cell_type": "code",
   "execution_count": null,
   "id": "e294742a-8e29-4543-bd2f-d72e14325857",
   "metadata": {},
   "outputs": [],
   "source": []
  },
  {
   "cell_type": "code",
   "execution_count": null,
   "id": "87ea788a-0ae9-443d-826e-6fd774a66fc7",
   "metadata": {},
   "outputs": [],
   "source": []
  }
 ],
 "metadata": {
  "kernelspec": {
   "display_name": "Python 3 (ipykernel)",
   "language": "python",
   "name": "python3"
  },
  "language_info": {
   "codemirror_mode": {
    "name": "ipython",
    "version": 3
   },
   "file_extension": ".py",
   "mimetype": "text/x-python",
   "name": "python",
   "nbconvert_exporter": "python",
   "pygments_lexer": "ipython3",
   "version": "3.11.7"
  }
 },
 "nbformat": 4,
 "nbformat_minor": 5
}
